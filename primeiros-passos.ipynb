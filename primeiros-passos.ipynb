{
 "cells": [
  {
   "cell_type": "markdown",
   "metadata": {},
   "source": [
    "# Integração Python e SQL\n",
    "\n",
    "### Objetivo\n",
    "\n",
    "A integração do Python com o SQL permite que execute comandos SQL diretamente pelo Python no seu banco de dados. Isso vai permitir a gente pegar consultas e já importar elas para dentro de uma análise no Python automaticamente.\n",
    "\n",
    "### O que vamos precisar\n",
    "\n",
    "- Para aprender, vamos usar o SQL Server, umas das ferramentas de gerenciamento de banco de dados mais usadas no Mercado. (Vamos instalar gratuitamente) https://www.microsoft.com/en-us/sql-server/sql-server-downloads instale o Developer, instale o 'básico' -> após instalar clique em 'Instalar SSMS' -> execute esse arquivo -> depois vai aparecer a opção de 'restart', clique para reiniciar o computador\n",
    "- Um banco de dados para testar -> usaremos o Contoso, https://drive.google.com/file/d/1Z0O5UyVopNgmi1d_0Lnfc0ciX20iEJ5n/view selecione o ContosoBIdemoBAK.exe\n",
    "- Extraia o arquivo Contoso, abra o banco de dados, (se você apagar sem querer o server name, vá no terminal do seu computador e digite: 'hostname', irá aparecer o nome para colocar no server name)\n",
    "- Dica: coloque o arquivo no C:\n",
    "- Clique com o botão direito no 'Databases' -> 'Restore Database' -> 'Device' -> '...' -> 'Add' -> Selecione o arquivo que você vai utilizar -> 'Ok' -> 'Ok' -> 'Ok' -> Vai carregar o arquivo Contoso e ele vai aparecer no banco de dados\n",
    "\n",
    "### No Python, o que vamos usar\n",
    "\n",
    "- Biblioteca pyodbc -> pode ser usada com a mesma estrutura para diversos bancos de dados, como SQL Server, MySQL, Oracle, Access, IBM, etc.\n",
    "\n",
    "### Obs Importante\n",
    "\n",
    "- Isso não vai ser um curso de SQL, portanto não vamos trabalhar extensivamente os comandos SQL, usaremos apenas alguns para mostrar como funciona a integração das ferramentas"
   ]
  }
 ],
 "metadata": {
  "kernelspec": {
   "display_name": "Python 3",
   "language": "python",
   "name": "python3"
  },
  "language_info": {
   "codemirror_mode": {
    "name": "ipython",
    "version": 3
   },
   "file_extension": ".py",
   "mimetype": "text/x-python",
   "name": "python",
   "nbconvert_exporter": "python",
   "pygments_lexer": "ipython3",
   "version": "3.8.8"
  }
 },
 "nbformat": 4,
 "nbformat_minor": 4
}
